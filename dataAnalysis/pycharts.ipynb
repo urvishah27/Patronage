{
 "cells": [
  {
   "cell_type": "code",
   "execution_count": 1,
   "metadata": {},
   "outputs": [],
   "source": [
    "import numpy as np\n",
    "import pandas as pd"
   ]
  },
  {
   "cell_type": "code",
   "execution_count": 29,
   "metadata": {},
   "outputs": [],
   "source": [
    "import plotly as py\n",
    "import plotly.graph_objs as go"
   ]
  },
  {
   "cell_type": "code",
   "execution_count": 4,
   "metadata": {},
   "outputs": [],
   "source": [
    "before_bjp = pd.read_csv('old_bjp_loc.csv')\n",
    "after_bjp = pd.read_csv('new_bjp_loc.csv')\n",
    "before_ncp = pd.read_csv('old_ncp_loc.csv')\n",
    "after_ncp = pd.read_csv('new_ncp_loc.csv')"
   ]
  },
  {
   "cell_type": "code",
   "execution_count": 11,
   "metadata": {},
   "outputs": [],
   "source": [
    "before_bjp_pie = pd.DataFrame(before_bjp.groupby(['Metro','sentiment']).sum()['retweets'] / before_bjp.groupby(['Metro']).sum()['retweets'] ) * 100"
   ]
  },
  {
   "cell_type": "code",
   "execution_count": 14,
   "metadata": {},
   "outputs": [],
   "source": [
    "before_bjp_pie = before_bjp_pie.reset_index()"
   ]
  },
  {
   "cell_type": "code",
   "execution_count": 17,
   "metadata": {},
   "outputs": [],
   "source": [
    "before_bjp_pie.to_csv('before_bjp_pie.csv', index=False)"
   ]
  },
  {
   "cell_type": "code",
   "execution_count": 21,
   "metadata": {},
   "outputs": [
    {
     "data": {
      "text/plain": [
       "array(['Bengaluru', 'Delhi', 'Hyderabad', 'Kolkata', 'Mumbai'],\n",
       "      dtype=object)"
      ]
     },
     "execution_count": 21,
     "metadata": {},
     "output_type": "execute_result"
    }
   ],
   "source": [
    "for metro in before_bjp_pie['Metro'].unique():\n",
    "    "
   ]
  },
  {
   "cell_type": "code",
   "execution_count": 22,
   "metadata": {},
   "outputs": [
    {
     "data": {
      "text/html": [
       "<div>\n",
       "<style scoped>\n",
       "    .dataframe tbody tr th:only-of-type {\n",
       "        vertical-align: middle;\n",
       "    }\n",
       "\n",
       "    .dataframe tbody tr th {\n",
       "        vertical-align: top;\n",
       "    }\n",
       "\n",
       "    .dataframe thead th {\n",
       "        text-align: right;\n",
       "    }\n",
       "</style>\n",
       "<table border=\"1\" class=\"dataframe\">\n",
       "  <thead>\n",
       "    <tr style=\"text-align: right;\">\n",
       "      <th></th>\n",
       "      <th>Metro</th>\n",
       "      <th>sentiment</th>\n",
       "      <th>retweets</th>\n",
       "    </tr>\n",
       "  </thead>\n",
       "  <tbody>\n",
       "    <tr>\n",
       "      <th>12</th>\n",
       "      <td>Mumbai</td>\n",
       "      <td>negative</td>\n",
       "      <td>20.783557</td>\n",
       "    </tr>\n",
       "    <tr>\n",
       "      <th>13</th>\n",
       "      <td>Mumbai</td>\n",
       "      <td>neutral</td>\n",
       "      <td>43.385199</td>\n",
       "    </tr>\n",
       "    <tr>\n",
       "      <th>14</th>\n",
       "      <td>Mumbai</td>\n",
       "      <td>positive</td>\n",
       "      <td>35.831245</td>\n",
       "    </tr>\n",
       "  </tbody>\n",
       "</table>\n",
       "</div>"
      ],
      "text/plain": [
       "     Metro sentiment   retweets\n",
       "12  Mumbai  negative  20.783557\n",
       "13  Mumbai   neutral  43.385199\n",
       "14  Mumbai  positive  35.831245"
      ]
     },
     "execution_count": 22,
     "metadata": {},
     "output_type": "execute_result"
    }
   ],
   "source": [
    "before_bjp_pie[before_bjp_pie['Metro']=='Mumbai']"
   ]
  },
  {
   "cell_type": "code",
   "execution_count": 38,
   "metadata": {},
   "outputs": [
    {
     "data": {
      "text/plain": [
       "'<div id=\"43181f8f-7833-45f0-8a24-72d26fc198be\" style=\"height: 100%; width: 100%;\" class=\"plotly-graph-div\"></div><script type=\"text/javascript\">window.PLOTLYENV=window.PLOTLYENV || {};window.PLOTLYENV.BASE_URL=\"https://plot.ly\";Plotly.newPlot(\"43181f8f-7833-45f0-8a24-72d26fc198be\", [{\"type\": \"pie\", \"labels\": [\"Negative\", \"Neutral\", \"Positive\"], \"values\": [20.78355664579662, 43.38519850160732, 35.831244852596065]}], {}, {\"showLink\": false, \"linkText\": \"Export to plot.ly\"})</script>'"
      ]
     },
     "execution_count": 38,
     "metadata": {},
     "output_type": "execute_result"
    }
   ],
   "source": [
    "values = list(before_bjp_pie[before_bjp_pie['Metro']=='Mumbai'].retweets)\n",
    "labels = [x.capitalize() for x in list(before_bjp_pie[before_bjp_pie['Metro']=='Mumbai'].sentiment)]\n",
    "trace = go.Pie(labels=labels, values=values)\n",
    "py.offline.plot([trace], include_plotlyjs=False, output_type='div', show_link=False)"
   ]
  },
  {
   "cell_type": "code",
   "execution_count": 89,
   "metadata": {},
   "outputs": [
    {
     "name": "stdout",
     "output_type": "stream",
     "text": [
      "<div id=\"51697fcb-ce01-4461-a0c4-356ed24e19a8\" style=\"height: 100%; width: 100%;\" class=\"plotly-graph-div\"></div><script type=\"text/javascript\">window.PLOTLYENV=window.PLOTLYENV || {};window.PLOTLYENV.BASE_URL=\"https://plot.ly\";Plotly.newPlot(\"51697fcb-ce01-4461-a0c4-356ed24e19a8\", [{\"values\": [14.2165398931866, 48.63505421589254, 37.14840589092086], \"labels\": [\"Negative\", \"Neutral\", \"Positive\"], \"hoverinfo\": \"label+percent+name\", \"domain\": {\"x\": [0, 0.48]}, \"hole\": 0.4, \"type\": \"pie\", \"name\": \"Before\"}, {\"values\": [10.766800374419185, 68.40233759005596, 20.83086203552485], \"labels\": [\"Negative\", \"Neutral\", \"Positive\"], \"textposition\": \"inside\", \"domain\": {\"x\": [0.52, 1]}, \"hoverinfo\": \"label+percent+name\", \"hole\": 0.4, \"type\": \"pie\", \"name\": \"After\"}], {\"title\": \"Bengaluru BJP Influence\", \"annotations\": [{\"font\": {\"size\": 15}, \"showarrow\": false, \"text\": \"Before\", \"x\": 0.2, \"y\": 0.5}, {\"font\": {\"size\": 15}, \"showarrow\": false, \"text\": \"After\", \"x\": 0.8, \"y\": 0.5}]}, {\"showLink\": false, \"linkText\": \"Export to plot.ly\"})</script>\n",
      "<div id=\"34c28271-b92a-49b5-8ad6-cb1dd180646e\" style=\"height: 100%; width: 100%;\" class=\"plotly-graph-div\"></div><script type=\"text/javascript\">window.PLOTLYENV=window.PLOTLYENV || {};window.PLOTLYENV.BASE_URL=\"https://plot.ly\";Plotly.newPlot(\"34c28271-b92a-49b5-8ad6-cb1dd180646e\", [{\"values\": [9.12125827073815, 61.02406580453095, 29.854675924730905], \"labels\": [\"Negative\", \"Neutral\", \"Positive\"], \"hoverinfo\": \"label+percent+name\", \"domain\": {\"x\": [0, 0.48]}, \"hole\": 0.4, \"type\": \"pie\", \"name\": \"Before\"}, {\"values\": [9.167678622767081, 72.77437598424352, 18.057945392989396], \"labels\": [\"Negative\", \"Neutral\", \"Positive\"], \"textposition\": \"inside\", \"domain\": {\"x\": [0.52, 1]}, \"hoverinfo\": \"label+percent+name\", \"hole\": 0.4, \"type\": \"pie\", \"name\": \"After\"}], {\"title\": \"Delhi BJP Influence\", \"annotations\": [{\"font\": {\"size\": 15}, \"showarrow\": false, \"text\": \"Before\", \"x\": 0.2, \"y\": 0.5}, {\"font\": {\"size\": 15}, \"showarrow\": false, \"text\": \"After\", \"x\": 0.8, \"y\": 0.5}]}, {\"showLink\": false, \"linkText\": \"Export to plot.ly\"})</script>\n",
      "<div id=\"e0ca6d42-3568-42db-853e-12e6a1115e67\" style=\"height: 100%; width: 100%;\" class=\"plotly-graph-div\"></div><script type=\"text/javascript\">window.PLOTLYENV=window.PLOTLYENV || {};window.PLOTLYENV.BASE_URL=\"https://plot.ly\";Plotly.newPlot(\"e0ca6d42-3568-42db-853e-12e6a1115e67\", [{\"values\": [13.315647956978921, 54.344120612666245, 32.34023143035483], \"labels\": [\"Negative\", \"Neutral\", \"Positive\"], \"hoverinfo\": \"label+percent+name\", \"domain\": {\"x\": [0, 0.48]}, \"hole\": 0.4, \"type\": \"pie\", \"name\": \"Before\"}, {\"values\": [6.796717341584825, 73.17223607819598, 20.03104658021919], \"labels\": [\"Negative\", \"Neutral\", \"Positive\"], \"textposition\": \"inside\", \"domain\": {\"x\": [0.52, 1]}, \"hoverinfo\": \"label+percent+name\", \"hole\": 0.4, \"type\": \"pie\", \"name\": \"After\"}], {\"title\": \"Hyderabad BJP Influence\", \"annotations\": [{\"font\": {\"size\": 15}, \"showarrow\": false, \"text\": \"Before\", \"x\": 0.2, \"y\": 0.5}, {\"font\": {\"size\": 15}, \"showarrow\": false, \"text\": \"After\", \"x\": 0.8, \"y\": 0.5}]}, {\"showLink\": false, \"linkText\": \"Export to plot.ly\"})</script>\n",
      "<div id=\"848c3345-38fc-4ecf-a1c1-0ad9764de4f0\" style=\"height: 100%; width: 100%;\" class=\"plotly-graph-div\"></div><script type=\"text/javascript\">window.PLOTLYENV=window.PLOTLYENV || {};window.PLOTLYENV.BASE_URL=\"https://plot.ly\";Plotly.newPlot(\"848c3345-38fc-4ecf-a1c1-0ad9764de4f0\", [{\"values\": [11.26526492022848, 45.50792791018318, 43.22680716958834], \"labels\": [\"Negative\", \"Neutral\", \"Positive\"], \"hoverinfo\": \"label+percent+name\", \"domain\": {\"x\": [0, 0.48]}, \"hole\": 0.4, \"type\": \"pie\", \"name\": \"Before\"}, {\"values\": [7.219827854815753, 66.11860718443165, 26.661564960752592], \"labels\": [\"Negative\", \"Neutral\", \"Positive\"], \"textposition\": \"inside\", \"domain\": {\"x\": [0.52, 1]}, \"hoverinfo\": \"label+percent+name\", \"hole\": 0.4, \"type\": \"pie\", \"name\": \"After\"}], {\"title\": \"Kolkata BJP Influence\", \"annotations\": [{\"font\": {\"size\": 15}, \"showarrow\": false, \"text\": \"Before\", \"x\": 0.2, \"y\": 0.5}, {\"font\": {\"size\": 15}, \"showarrow\": false, \"text\": \"After\", \"x\": 0.8, \"y\": 0.5}]}, {\"showLink\": false, \"linkText\": \"Export to plot.ly\"})</script>\n",
      "<div id=\"87f47e52-ca99-4bb2-9394-e0b2d5ca2329\" style=\"height: 100%; width: 100%;\" class=\"plotly-graph-div\"></div><script type=\"text/javascript\">window.PLOTLYENV=window.PLOTLYENV || {};window.PLOTLYENV.BASE_URL=\"https://plot.ly\";Plotly.newPlot(\"87f47e52-ca99-4bb2-9394-e0b2d5ca2329\", [{\"values\": [20.78355664579662, 43.38519850160732, 35.831244852596065], \"labels\": [\"Negative\", \"Neutral\", \"Positive\"], \"hoverinfo\": \"label+percent+name\", \"domain\": {\"x\": [0, 0.48]}, \"hole\": 0.4, \"type\": \"pie\", \"name\": \"Before\"}, {\"values\": [7.182149114230578, 71.94632251132272, 20.8715283744467], \"labels\": [\"Negative\", \"Neutral\", \"Positive\"], \"textposition\": \"inside\", \"domain\": {\"x\": [0.52, 1]}, \"hoverinfo\": \"label+percent+name\", \"hole\": 0.4, \"type\": \"pie\", \"name\": \"After\"}], {\"title\": \"Mumbai BJP Influence\", \"annotations\": [{\"font\": {\"size\": 15}, \"showarrow\": false, \"text\": \"Before\", \"x\": 0.2, \"y\": 0.5}, {\"font\": {\"size\": 15}, \"showarrow\": false, \"text\": \"After\", \"x\": 0.8, \"y\": 0.5}]}, {\"showLink\": false, \"linkText\": \"Export to plot.ly\"})</script>\n"
     ]
    }
   ],
   "source": [
    "for metro in before_bjp_pie['Metro'].unique():\n",
    "    fig = {\n",
    "  \"data\": [\n",
    "    {\n",
    "      \"values\": list(before_bjp_pie[before_bjp_pie['Metro']==metro].retweets),\n",
    "      \"labels\": [x.capitalize() for x in list(before_bjp_pie[before_bjp_pie['Metro']=='Mumbai'].sentiment)],\n",
    "      \"hoverinfo\":\"label+percent+name\",\n",
    "    \"domain\": {\"x\": [0, .48]},\n",
    "      \"hoverinfo\":\"label+percent+name\",\n",
    "      \"hole\": .4,\n",
    "      \"type\": \"pie\",\n",
    "        \"name\":\"Before\",\n",
    "    },\n",
    "  {\n",
    "      \"values\": list(after_bjp_pie[after_bjp_pie['Metro']==metro].retweets),\n",
    "      \"labels\": [x.capitalize() for x in list(after_bjp_pie[after_bjp_pie['Metro']=='Mumbai'].sentiment)],\n",
    "      \"textposition\":\"inside\",\n",
    "      \"domain\": {\"x\": [.52, 1]},\n",
    "      \"hoverinfo\":\"label+percent+name\",\n",
    "      \"hole\": .4,\n",
    "      \"type\": \"pie\",\n",
    "      \"name\": \"After\",\n",
    "    },],\n",
    "  \"layout\": {\n",
    "        \"title\":f\"{metro} BJP Influence\",\n",
    "        \"annotations\": [\n",
    "            {\n",
    "                \"font\": {\n",
    "                    \"size\": 15\n",
    "                },\n",
    "                \"showarrow\": False,\n",
    "                \"text\": \"Before\",\n",
    "                \"x\": 0.20,\n",
    "                \"y\": 0.5\n",
    "            },\n",
    "            {\n",
    "                \"font\": {\n",
    "                    \"size\": 15\n",
    "                },\n",
    "                \"showarrow\": False,\n",
    "                \"text\": \"After\",\n",
    "                \"x\": 0.80,\n",
    "                \"y\": 0.5\n",
    "            }]\n",
    "}\n",
    "}\n",
    "    print(py.offline.plot(fig, include_plotlyjs=False, output_type='div', show_link=False))\n"
   ]
  },
  {
   "cell_type": "code",
   "execution_count": 71,
   "metadata": {},
   "outputs": [],
   "source": [
    "after_bjp_pie = pd.DataFrame(after_bjp.groupby(['Metro','sentiment']).sum()['retweets'] / after_bjp.groupby(['Metro']).sum()['retweets'] ) * 100\n",
    "after_bjp_pie = after_bjp_pie.reset_index()\n",
    "after_bjp_pie.to_csv('after_bjp_pie.csv', index=False)"
   ]
  },
  {
   "cell_type": "code",
   "execution_count": 75,
   "metadata": {},
   "outputs": [],
   "source": [
    "after_ncp_pie = pd.DataFrame(after_ncp.groupby(['Metro','sentiment']).sum()['retweets'] / after_ncp.groupby(['Metro']).sum()['retweets'] ) * 100\n",
    "after_ncp_pie = after_ncp_pie.reset_index()\n",
    "after_ncp_pie.to_csv('after_ncp_pie.csv', index=False)"
   ]
  },
  {
   "cell_type": "code",
   "execution_count": 76,
   "metadata": {},
   "outputs": [],
   "source": [
    "before_ncp_pie = pd.DataFrame(before_ncp.groupby(['Metro','sentiment']).sum()['retweets'] / before_ncp.groupby(['Metro']).sum()['retweets'] ) * 100\n",
    "before_ncp_pie = before_ncp_pie.reset_index()\n",
    "before_ncp_pie.to_csv('before_ncp_pie.csv', index=False)"
   ]
  },
  {
   "cell_type": "code",
   "execution_count": 90,
   "metadata": {},
   "outputs": [
    {
     "name": "stdout",
     "output_type": "stream",
     "text": [
      "<div id=\"43da631c-f73d-4687-be49-841e13f65b8f\" style=\"height: 100%; width: 100%;\" class=\"plotly-graph-div\"></div><script type=\"text/javascript\">window.PLOTLYENV=window.PLOTLYENV || {};window.PLOTLYENV.BASE_URL=\"https://plot.ly\";Plotly.newPlot(\"43da631c-f73d-4687-be49-841e13f65b8f\", [{\"values\": [3.512248859284131, 86.85345267247496, 9.634298468240914], \"labels\": [\"Negative\", \"Neutral\", \"Positive\"], \"hoverinfo\": \"label+percent+name\", \"domain\": {\"x\": [0, 0.48]}, \"hole\": 0.4, \"type\": \"pie\", \"name\": \"Before\"}, {\"values\": [12.165536761388116, 72.38385002739344, 15.450613211218442], \"labels\": [\"Negative\", \"Neutral\", \"Positive\"], \"textposition\": \"inside\", \"domain\": {\"x\": [0.52, 1]}, \"hoverinfo\": \"label+percent+name\", \"hole\": 0.4, \"type\": \"pie\", \"name\": \"After\"}], {\"title\": \"Bengaluru NCP Influence\", \"annotations\": [{\"font\": {\"size\": 15}, \"showarrow\": false, \"text\": \"Before\", \"x\": 0.2, \"y\": 0.5}, {\"font\": {\"size\": 15}, \"showarrow\": false, \"text\": \"After\", \"x\": 0.8, \"y\": 0.5}]}, {\"showLink\": false, \"linkText\": \"Export to plot.ly\"})</script>\n",
      "<div id=\"aa95f42d-1ef0-4efa-97af-55ec0fb0968e\" style=\"height: 100%; width: 100%;\" class=\"plotly-graph-div\"></div><script type=\"text/javascript\">window.PLOTLYENV=window.PLOTLYENV || {};window.PLOTLYENV.BASE_URL=\"https://plot.ly\";Plotly.newPlot(\"aa95f42d-1ef0-4efa-97af-55ec0fb0968e\", [{\"values\": [10.588295817529616, 70.66861221925504, 18.74309196321534], \"labels\": [\"Negative\", \"Neutral\", \"Positive\"], \"hoverinfo\": \"label+percent+name\", \"domain\": {\"x\": [0, 0.48]}, \"hole\": 0.4, \"type\": \"pie\", \"name\": \"Before\"}, {\"values\": [17.835229332834, 60.70964452551622, 21.45512614164978], \"labels\": [\"Negative\", \"Neutral\", \"Positive\"], \"textposition\": \"inside\", \"domain\": {\"x\": [0.52, 1]}, \"hoverinfo\": \"label+percent+name\", \"hole\": 0.4, \"type\": \"pie\", \"name\": \"After\"}], {\"title\": \"Delhi NCP Influence\", \"annotations\": [{\"font\": {\"size\": 15}, \"showarrow\": false, \"text\": \"Before\", \"x\": 0.2, \"y\": 0.5}, {\"font\": {\"size\": 15}, \"showarrow\": false, \"text\": \"After\", \"x\": 0.8, \"y\": 0.5}]}, {\"showLink\": false, \"linkText\": \"Export to plot.ly\"})</script>\n",
      "<div id=\"a2a1b8fb-9572-4708-95e1-36ad8fd9cc51\" style=\"height: 100%; width: 100%;\" class=\"plotly-graph-div\"></div><script type=\"text/javascript\">window.PLOTLYENV=window.PLOTLYENV || {};window.PLOTLYENV.BASE_URL=\"https://plot.ly\";Plotly.newPlot(\"a2a1b8fb-9572-4708-95e1-36ad8fd9cc51\", [{\"values\": [8.217665599998464, 80.52164011517328, 11.260694284828253], \"labels\": [\"Negative\", \"Neutral\", \"Positive\"], \"hoverinfo\": \"label+percent+name\", \"domain\": {\"x\": [0, 0.48]}, \"hole\": 0.4, \"type\": \"pie\", \"name\": \"Before\"}, {\"values\": [9.25089962121212, 79.16131628787879, 11.587784090909091], \"labels\": [\"Negative\", \"Neutral\", \"Positive\"], \"textposition\": \"inside\", \"domain\": {\"x\": [0.52, 1]}, \"hoverinfo\": \"label+percent+name\", \"hole\": 0.4, \"type\": \"pie\", \"name\": \"After\"}], {\"title\": \"Hyderabad NCP Influence\", \"annotations\": [{\"font\": {\"size\": 15}, \"showarrow\": false, \"text\": \"Before\", \"x\": 0.2, \"y\": 0.5}, {\"font\": {\"size\": 15}, \"showarrow\": false, \"text\": \"After\", \"x\": 0.8, \"y\": 0.5}]}, {\"showLink\": false, \"linkText\": \"Export to plot.ly\"})</script>\n",
      "<div id=\"6a96e495-caa1-41a5-b3a4-dedd25a67b42\" style=\"height: 100%; width: 100%;\" class=\"plotly-graph-div\"></div><script type=\"text/javascript\">window.PLOTLYENV=window.PLOTLYENV || {};window.PLOTLYENV.BASE_URL=\"https://plot.ly\";Plotly.newPlot(\"6a96e495-caa1-41a5-b3a4-dedd25a67b42\", [{\"values\": [3.8852035441893875, 82.58371711980578, 13.531079336004828], \"labels\": [\"Negative\", \"Neutral\", \"Positive\"], \"hoverinfo\": \"label+percent+name\", \"domain\": {\"x\": [0, 0.48]}, \"hole\": 0.4, \"type\": \"pie\", \"name\": \"Before\"}, {\"values\": [11.875221460283052, 74.30161848385684, 13.8231600558601], \"labels\": [\"Negative\", \"Neutral\", \"Positive\"], \"textposition\": \"inside\", \"domain\": {\"x\": [0.52, 1]}, \"hoverinfo\": \"label+percent+name\", \"hole\": 0.4, \"type\": \"pie\", \"name\": \"After\"}], {\"title\": \"Kolkata NCP Influence\", \"annotations\": [{\"font\": {\"size\": 15}, \"showarrow\": false, \"text\": \"Before\", \"x\": 0.2, \"y\": 0.5}, {\"font\": {\"size\": 15}, \"showarrow\": false, \"text\": \"After\", \"x\": 0.8, \"y\": 0.5}]}, {\"showLink\": false, \"linkText\": \"Export to plot.ly\"})</script>\n",
      "<div id=\"6396e0be-8e65-4d01-96c3-944da0b27b45\" style=\"height: 100%; width: 100%;\" class=\"plotly-graph-div\"></div><script type=\"text/javascript\">window.PLOTLYENV=window.PLOTLYENV || {};window.PLOTLYENV.BASE_URL=\"https://plot.ly\";Plotly.newPlot(\"6396e0be-8e65-4d01-96c3-944da0b27b45\", [{\"values\": [8.405824112936273, 72.59292977444525, 19.00124611261847], \"labels\": [\"Negative\", \"Neutral\", \"Positive\"], \"hoverinfo\": \"label+percent+name\", \"domain\": {\"x\": [0, 0.48]}, \"hole\": 0.4, \"type\": \"pie\", \"name\": \"Before\"}, {\"values\": [9.78143104632098, 76.30702768214283, 13.91154127153619], \"labels\": [\"Negative\", \"Neutral\", \"Positive\"], \"textposition\": \"inside\", \"domain\": {\"x\": [0.52, 1]}, \"hoverinfo\": \"label+percent+name\", \"hole\": 0.4, \"type\": \"pie\", \"name\": \"After\"}], {\"title\": \"Mumbai NCP Influence\", \"annotations\": [{\"font\": {\"size\": 15}, \"showarrow\": false, \"text\": \"Before\", \"x\": 0.2, \"y\": 0.5}, {\"font\": {\"size\": 15}, \"showarrow\": false, \"text\": \"After\", \"x\": 0.8, \"y\": 0.5}]}, {\"showLink\": false, \"linkText\": \"Export to plot.ly\"})</script>\n"
     ]
    }
   ],
   "source": [
    "for metro in before_ncp_pie['Metro'].unique():\n",
    "    fig = {\n",
    "  \"data\": [\n",
    "    {\n",
    "      \"values\": list(before_ncp_pie[before_ncp_pie['Metro']==metro].retweets),\n",
    "      \"labels\": [x.capitalize() for x in list(before_ncp_pie[before_ncp_pie['Metro']=='Mumbai'].sentiment)],\n",
    "      \"hoverinfo\":\"label+percent+name\",\n",
    "    \"domain\": {\"x\": [0, .48]},\n",
    "      \"hoverinfo\":\"label+percent+name\",\n",
    "      \"hole\": .4,\n",
    "      \"type\": \"pie\",\n",
    "        \"name\":\"Before\",\n",
    "    },\n",
    "  {\n",
    "      \"values\": list(after_ncp_pie[after_ncp_pie['Metro']==metro].retweets),\n",
    "      \"labels\": [x.capitalize() for x in list(after_ncp_pie[after_ncp_pie['Metro']=='Mumbai'].sentiment)],\n",
    "      \"textposition\":\"inside\",\n",
    "      \"domain\": {\"x\": [.52, 1]},\n",
    "      \"hoverinfo\":\"label+percent+name\",\n",
    "      \"hole\": .4,\n",
    "      \"type\": \"pie\",\n",
    "      \"name\": \"After\",\n",
    "    },],\n",
    "  \"layout\": {\n",
    "        \"title\":f\"{metro} NCP Influence\",\n",
    "        \"annotations\": [\n",
    "            {\n",
    "                \"font\": {\n",
    "                    \"size\": 15\n",
    "                },\n",
    "                \"showarrow\": False,\n",
    "                \"text\": \"Before\",\n",
    "                \"x\": 0.20,\n",
    "                \"y\": 0.5\n",
    "            },\n",
    "            {\n",
    "                \"font\": {\n",
    "                    \"size\": 15\n",
    "                },\n",
    "                \"showarrow\": False,\n",
    "                \"text\": \"After\",\n",
    "                \"x\": 0.80,\n",
    "                \"y\": 0.5\n",
    "            }]\n",
    "}\n",
    "}\n",
    "    print(py.offline.plot(fig, include_plotlyjs=False, output_type='div', show_link=False))\n"
   ]
  },
  {
   "cell_type": "code",
   "execution_count": 87,
   "metadata": {},
   "outputs": [
    {
     "name": "stdout",
     "output_type": "stream",
     "text": [
      "<div id=\"9089b299-083c-4426-8398-580b781aaf78\" style=\"height: 100%; width: 100%;\" class=\"plotly-graph-div\"></div><script type=\"text/javascript\">window.PLOTLYENV=window.PLOTLYENV || {};window.PLOTLYENV.BASE_URL=\"https://plot.ly\";Plotly.newPlot(\"9089b299-083c-4426-8398-580b781aaf78\", [{\"values\": [66.66, 19.61, 13.725], \"labels\": [\"Neutral\", \"Positive\", \"Negative\"], \"type\": \"pie\", \"hoverinfo\": \"label+percent\"}], {\"title\": \"NCP Blog Influence\"}, {\"showLink\": false, \"linkText\": \"Export to plot.ly\"})</script>\n"
     ]
    }
   ],
   "source": [
    "#congpd\n",
    "fig3 = {\n",
    "  \"data\": [\n",
    "    {\n",
    "      \"values\": [66.66,19.61,13.725],\n",
    "      \"labels\":  ['Neutral','Positive','Negative'],\n",
    "        \"type\": \"pie\",\n",
    "  'hoverinfo':'label+percent',\n",
    "    }],\n",
    "  \"layout\": {\"title\":\"NCP Blog Influence\"}\n",
    "}\n",
    "print(py.offline.plot(fig3, include_plotlyjs=False, output_type='div', show_link=False))"
   ]
  },
  {
   "cell_type": "code",
   "execution_count": 86,
   "metadata": {},
   "outputs": [
    {
     "name": "stdout",
     "output_type": "stream",
     "text": [
      "<div id=\"71837624-848a-4c8f-b45f-d201fd241bdb\" style=\"height: 100%; width: 100%;\" class=\"plotly-graph-div\"></div><script type=\"text/javascript\">window.PLOTLYENV=window.PLOTLYENV || {};window.PLOTLYENV.BASE_URL=\"https://plot.ly\";Plotly.newPlot(\"71837624-848a-4c8f-b45f-d201fd241bdb\", [{\"values\": [53.3336, 24.4443, 22.22], \"labels\": [\"Neutral\", \"Positive\", \"Negative\"], \"type\": \"pie\", \"hoverinfo\": \"label+percent\"}], {\"title\": \"BJP Blog Influence\"}, {\"showLink\": false, \"linkText\": \"Export to plot.ly\"})</script>\n"
     ]
    }
   ],
   "source": [
    "fig4 = {\n",
    "  \"data\": [\n",
    "    {\n",
    "      \"values\": [53.3336,24.4443,22.22],\n",
    "      \"labels\":  ['Neutral','Positive','Negative'],\n",
    "        \"type\": \"pie\",\n",
    "        'hoverinfo':'label+percent',\n",
    "    }],\n",
    "  \"layout\": {\"title\":\"BJP Blog Influence\"}\n",
    "}\n",
    "print(py.offline.plot(fig4, include_plotlyjs=False, output_type='div', show_link=False))"
   ]
  },
  {
   "cell_type": "code",
   "execution_count": null,
   "metadata": {},
   "outputs": [],
   "source": []
  }
 ],
 "metadata": {
  "kernelspec": {
   "display_name": "Python 3",
   "language": "python",
   "name": "python3"
  },
  "language_info": {
   "codemirror_mode": {
    "name": "ipython",
    "version": 3
   },
   "file_extension": ".py",
   "mimetype": "text/x-python",
   "name": "python",
   "nbconvert_exporter": "python",
   "pygments_lexer": "ipython3",
   "version": "3.6.8"
  }
 },
 "nbformat": 4,
 "nbformat_minor": 2
}
