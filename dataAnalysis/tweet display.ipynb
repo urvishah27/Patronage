{
 "cells": [
  {
   "cell_type": "code",
   "execution_count": 1,
   "metadata": {},
   "outputs": [],
   "source": [
    "import numpy as np\n",
    "import pandas as pd"
   ]
  },
  {
   "cell_type": "code",
   "execution_count": 2,
   "metadata": {},
   "outputs": [],
   "source": [
    "tweets_df = pd.read_csv('bjp_show.csv')"
   ]
  },
  {
   "cell_type": "code",
   "execution_count": 3,
   "metadata": {},
   "outputs": [
    {
     "data": {
      "text/html": [
       "<div>\n",
       "<style scoped>\n",
       "    .dataframe tbody tr th:only-of-type {\n",
       "        vertical-align: middle;\n",
       "    }\n",
       "\n",
       "    .dataframe tbody tr th {\n",
       "        vertical-align: top;\n",
       "    }\n",
       "\n",
       "    .dataframe thead th {\n",
       "        text-align: right;\n",
       "    }\n",
       "</style>\n",
       "<table border=\"1\" class=\"dataframe\">\n",
       "  <thead>\n",
       "    <tr style=\"text-align: right;\">\n",
       "      <th></th>\n",
       "      <th>cleaned_text</th>\n",
       "      <th>created_at</th>\n",
       "      <th>follower_count</th>\n",
       "      <th>profile_image</th>\n",
       "      <th>retweets</th>\n",
       "      <th>sentiment</th>\n",
       "      <th>text</th>\n",
       "      <th>tweet_id</th>\n",
       "      <th>user_name</th>\n",
       "      <th>user_url</th>\n",
       "    </tr>\n",
       "  </thead>\n",
       "  <tbody>\n",
       "    <tr>\n",
       "      <th>0</th>\n",
       "      <td>Nobody: Me at 12am on February 1st every year</td>\n",
       "      <td>2019-02-01 23:59:38</td>\n",
       "      <td>134</td>\n",
       "      <td>https://pbs.twimg.com/profile_images/105806996...</td>\n",
       "      <td>35253</td>\n",
       "      <td>neutral</td>\n",
       "      <td>@HerDreadsRock: Nobody:\\n\\nMe at 12am on Febru...</td>\n",
       "      <td>1091486264229068807</td>\n",
       "      <td>sadie.</td>\n",
       "      <td>https://twitter.com/sadie__modi</td>\n",
       "    </tr>\n",
       "    <tr>\n",
       "      <th>1</th>\n",
       "      <td>I spoke with Mamata Di tonight and told her we...</td>\n",
       "      <td>2019-02-03 23:56:50</td>\n",
       "      <td>44</td>\n",
       "      <td>https://pbs.twimg.com/profile_images/948367308...</td>\n",
       "      <td>11112</td>\n",
       "      <td>neutral</td>\n",
       "      <td>@RahulGandhi: I spoke with Mamata Di tonight a...</td>\n",
       "      <td>1092210335094849538</td>\n",
       "      <td>Eswaran</td>\n",
       "      <td>https://twitter.com/gpa_eswar</td>\n",
       "    </tr>\n",
       "    <tr>\n",
       "      <th>2</th>\n",
       "      <td>I thank the people of Jind for blessing This i...</td>\n",
       "      <td>2019-02-01 23:52:33</td>\n",
       "      <td>0</td>\n",
       "      <td>https://pbs.twimg.com/profile_images/108919651...</td>\n",
       "      <td>8173</td>\n",
       "      <td>positive</td>\n",
       "      <td>@narendramodi: I thank the people of Jind for ...</td>\n",
       "      <td>1091484479049232384</td>\n",
       "      <td>Praveen Pandey</td>\n",
       "      <td>https://twitter.com/Praveen07319996</td>\n",
       "    </tr>\n",
       "    <tr>\n",
       "      <th>3</th>\n",
       "      <td>Pappu brought PG (Priyanka Gandhi Modi brought...</td>\n",
       "      <td>2019-02-01 23:57:13</td>\n",
       "      <td>270</td>\n",
       "      <td>https://pbs.twimg.com/profile_images/879218373...</td>\n",
       "      <td>7437</td>\n",
       "      <td>neutral</td>\n",
       "      <td>@rahulroushan: Pappu brought PG (Priyanka Gand...</td>\n",
       "      <td>1091485653307662342</td>\n",
       "      <td>Shantilal sharma</td>\n",
       "      <td>https://twitter.com/sharma3670</td>\n",
       "    </tr>\n",
       "    <tr>\n",
       "      <th>4</th>\n",
       "      <td>Modi Government clears one more step to get Ma...</td>\n",
       "      <td>2019-02-04 23:55:52</td>\n",
       "      <td>22921</td>\n",
       "      <td>https://pbs.twimg.com/profile_images/939099593...</td>\n",
       "      <td>7143</td>\n",
       "      <td>positive</td>\n",
       "      <td>@arunjaitley: Modi Government clears one more ...</td>\n",
       "      <td>1092572478168358912</td>\n",
       "      <td>Braj Gopal Pandey</td>\n",
       "      <td>https://twitter.com/pandey_braj</td>\n",
       "    </tr>\n",
       "  </tbody>\n",
       "</table>\n",
       "</div>"
      ],
      "text/plain": [
       "                                        cleaned_text           created_at  \\\n",
       "0      Nobody: Me at 12am on February 1st every year  2019-02-01 23:59:38   \n",
       "1  I spoke with Mamata Di tonight and told her we...  2019-02-03 23:56:50   \n",
       "2  I thank the people of Jind for blessing This i...  2019-02-01 23:52:33   \n",
       "3  Pappu brought PG (Priyanka Gandhi Modi brought...  2019-02-01 23:57:13   \n",
       "4  Modi Government clears one more step to get Ma...  2019-02-04 23:55:52   \n",
       "\n",
       "   follower_count                                      profile_image  \\\n",
       "0             134  https://pbs.twimg.com/profile_images/105806996...   \n",
       "1              44  https://pbs.twimg.com/profile_images/948367308...   \n",
       "2               0  https://pbs.twimg.com/profile_images/108919651...   \n",
       "3             270  https://pbs.twimg.com/profile_images/879218373...   \n",
       "4           22921  https://pbs.twimg.com/profile_images/939099593...   \n",
       "\n",
       "   retweets sentiment                                               text  \\\n",
       "0     35253   neutral  @HerDreadsRock: Nobody:\\n\\nMe at 12am on Febru...   \n",
       "1     11112   neutral  @RahulGandhi: I spoke with Mamata Di tonight a...   \n",
       "2      8173  positive  @narendramodi: I thank the people of Jind for ...   \n",
       "3      7437   neutral  @rahulroushan: Pappu brought PG (Priyanka Gand...   \n",
       "4      7143  positive  @arunjaitley: Modi Government clears one more ...   \n",
       "\n",
       "              tweet_id          user_name                             user_url  \n",
       "0  1091486264229068807             sadie.      https://twitter.com/sadie__modi  \n",
       "1  1092210335094849538            Eswaran        https://twitter.com/gpa_eswar  \n",
       "2  1091484479049232384     Praveen Pandey  https://twitter.com/Praveen07319996  \n",
       "3  1091485653307662342   Shantilal sharma       https://twitter.com/sharma3670  \n",
       "4  1092572478168358912  Braj Gopal Pandey      https://twitter.com/pandey_braj  "
      ]
     },
     "execution_count": 3,
     "metadata": {},
     "output_type": "execute_result"
    }
   ],
   "source": [
    "tweets_df.head()"
   ]
  },
  {
   "cell_type": "markdown",
   "metadata": {},
   "source": [
    "image  \n",
    "url  \n",
    "name  \n",
    "followers  \n",
    "retwteets  \n",
    "influence score  \n",
    "sentiment  \n",
    "date  "
   ]
  },
  {
   "cell_type": "code",
   "execution_count": 5,
   "metadata": {},
   "outputs": [],
   "source": [
    "tweets_df['date'] = tweets_df['created_at'].apply(lambda x: x[:11])"
   ]
  },
  {
   "cell_type": "code",
   "execution_count": 9,
   "metadata": {},
   "outputs": [],
   "source": [
    "tweets_df.drop(['created_at','cleaned_text', 'tweet_id'], axis=1, inplace=True)"
   ]
  },
  {
   "cell_type": "code",
   "execution_count": 29,
   "metadata": {},
   "outputs": [],
   "source": [
    "tweets_df['influence'] = (tweets_df['follower_count'] / 2292 ) * 10"
   ]
  },
  {
   "cell_type": "code",
   "execution_count": 28,
   "metadata": {},
   "outputs": [
    {
     "name": "stderr",
     "output_type": "stream",
     "text": [
      "/home/harsh/anaconda3/lib/python3.6/site-packages/ipykernel_launcher.py:1: SettingWithCopyWarning: \n",
      "A value is trying to be set on a copy of a slice from a DataFrame\n",
      "\n",
      "See the caveats in the documentation: http://pandas.pydata.org/pandas-docs/stable/indexing.html#indexing-view-versus-copy\n",
      "  \"\"\"Entry point for launching an IPython kernel.\n"
     ]
    }
   ],
   "source": [
    "tweets_df.loc[4]['folower_count'] = 2292"
   ]
  },
  {
   "cell_type": "code",
   "execution_count": 27,
   "metadata": {},
   "outputs": [],
   "source": [
    "tweets_df = pd.DataFrame(tweets_df)"
   ]
  },
  {
   "cell_type": "code",
   "execution_count": 32,
   "metadata": {},
   "outputs": [],
   "source": [
    "tweets_df.to_csv('tweet_disp.csv', index=False)"
   ]
  },
  {
   "cell_type": "code",
   "execution_count": null,
   "metadata": {},
   "outputs": [],
   "source": []
  }
 ],
 "metadata": {
  "kernelspec": {
   "display_name": "Python 3",
   "language": "python",
   "name": "python3"
  },
  "language_info": {
   "codemirror_mode": {
    "name": "ipython",
    "version": 3
   },
   "file_extension": ".py",
   "mimetype": "text/x-python",
   "name": "python",
   "nbconvert_exporter": "python",
   "pygments_lexer": "ipython3",
   "version": "3.6.8"
  }
 },
 "nbformat": 4,
 "nbformat_minor": 2
}
