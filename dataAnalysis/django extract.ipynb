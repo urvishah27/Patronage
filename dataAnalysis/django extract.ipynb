{
 "cells": [
  {
   "cell_type": "code",
   "execution_count": 15,
   "metadata": {},
   "outputs": [
    {
     "ename": "ValueError",
     "evalue": "invalid literal for int() with base 10: ' '",
     "output_type": "error",
     "traceback": [
      "\u001b[0;31m---------------------------------------------------------------------------\u001b[0m",
      "\u001b[0;31mValueError\u001b[0m                                Traceback (most recent call last)",
      "\u001b[0;32m<ipython-input-15-f1987c33f737>\u001b[0m in \u001b[0;36m<module>\u001b[0;34m\u001b[0m\n\u001b[1;32m      5\u001b[0m \u001b[0mfollowers\u001b[0m\u001b[0;34m=\u001b[0m\u001b[0mlist\u001b[0m\u001b[0;34m(\u001b[0m\u001b[0;34m)\u001b[0m\u001b[0;34m\u001b[0m\u001b[0;34m\u001b[0m\u001b[0m\n\u001b[1;32m      6\u001b[0m \u001b[0;32mfor\u001b[0m \u001b[0ma\u001b[0m \u001b[0;32min\u001b[0m \u001b[0mfollowers_old\u001b[0m\u001b[0;34m:\u001b[0m\u001b[0;34m\u001b[0m\u001b[0;34m\u001b[0m\u001b[0m\n\u001b[0;32m----> 7\u001b[0;31m     \u001b[0mfollowers\u001b[0m\u001b[0;34m.\u001b[0m\u001b[0mappend\u001b[0m\u001b[0;34m(\u001b[0m\u001b[0mint\u001b[0m\u001b[0;34m(\u001b[0m\u001b[0mstr\u001b[0m\u001b[0;34m(\u001b[0m\u001b[0ma\u001b[0m\u001b[0;34m)\u001b[0m\u001b[0;34m)\u001b[0m\u001b[0;34m)\u001b[0m\u001b[0;34m\u001b[0m\u001b[0;34m\u001b[0m\u001b[0m\n\u001b[0m\u001b[1;32m      8\u001b[0m \u001b[0mname\u001b[0m \u001b[0;34m=\u001b[0m \u001b[0mlist\u001b[0m\u001b[0;34m(\u001b[0m\u001b[0mtweets\u001b[0m\u001b[0;34m[\u001b[0m\u001b[0;34m'user_name'\u001b[0m\u001b[0;34m]\u001b[0m\u001b[0;34m)\u001b[0m\u001b[0;34m\u001b[0m\u001b[0;34m\u001b[0m\u001b[0m\n\u001b[1;32m      9\u001b[0m \u001b[0muser_url\u001b[0m \u001b[0;34m=\u001b[0m \u001b[0mlist\u001b[0m\u001b[0;34m(\u001b[0m\u001b[0mtweets\u001b[0m\u001b[0;34m[\u001b[0m\u001b[0;34m'user_url'\u001b[0m\u001b[0;34m]\u001b[0m\u001b[0;34m)\u001b[0m\u001b[0;34m\u001b[0m\u001b[0;34m\u001b[0m\u001b[0m\n",
      "\u001b[0;31mValueError\u001b[0m: invalid literal for int() with base 10: ' '"
     ]
    }
   ],
   "source": [
    "import numpy as np\n",
    "import pandas as pd\n",
    "tweets = pd.read_csv('tweet_disp.csv')\n",
    "followers_old = list(str(tweets['follower_count']))\n",
    "followers=list()\n",
    "for a in followers_old:\n",
    "    followers.append(int(str(a)))\n",
    "name = list(tweets['user_name'])\n",
    "user_url = list(tweets['user_url'])\n",
    "image = list(tweets['profile_image'])\n",
    "retweets_old = list(tweets['retweets'])\n",
    "retweets = list()\n",
    "for a in retweets_old:\n",
    "    retweets.append(int(a))\n",
    "influence = list(tweets['influence'])\n",
    "sentiment = list(tweets['sentiment'])\n",
    "date = list(tweets['date'])"
   ]
  },
  {
   "cell_type": "code",
   "execution_count": 6,
   "metadata": {},
   "outputs": [],
   "source": [
    "text= list(tweets['text'])"
   ]
  },
  {
   "cell_type": "code",
   "execution_count": 11,
   "metadata": {},
   "outputs": [],
   "source": [
    "full_text = list()\n",
    "for t in text:\n",
    "    full_text.append(str(t))"
   ]
  },
  {
   "cell_type": "code",
   "execution_count": 12,
   "metadata": {},
   "outputs": [
    {
     "data": {
      "text/plain": [
       "['@HerDreadsRock: Nobody:\\n\\nMe at 12am on February 1st every year: https://t.co/oN7x1Tlqhg',\n",
       " '@RahulGandhi: I spoke with Mamata Di tonight and told her we stand shoulder to shoulder with her. \\n\\nThe happenings in Bengal are a part…',\n",
       " '@narendramodi: I thank the people of Jind for blessing @BJP4Haryana. This is a seat where the Party has never won before. Glad to see th…',\n",
       " '@rahulroushan: Pappu brought PG (Priyanka Gandhi) \\nModi brought PG (Piyush Goyal) \\n\\nab RT karo sab',\n",
       " '@arunjaitley: Modi Government clears one more step to get Mallya extradited while Opposition rallies around the Saradha Scamsters.',\n",
       " '@narendramodi_in: मुझे भी गुजरात में 9-9 घंटे तक बिठाकर दिल्ली से आई एजेंसियां पूछताछ करती थीं। \\n\\nतब मैंने एक बार भी नहीं कहा था कि दिल्…',\n",
       " '@BJP4Karnataka: - Arrests CBI\\n- Denied permission for rallies\\n- Doesn’t let @AmitShah’s choppers land\\n- Let’s her goonda party men to ki…',\n",
       " '@Swamy39: Thanks to Namo it seems Dubai / Abu Dhabhi no more safe sanctuary for Indian criminals. If this trend continues we shall soon…',\n",
       " '@manakgupta: BJP शासित राज्यों समेत पूरे देश में बेरोक-टोक घूमती हैं लेकिन बंगाल में आने से BJP नेताओं को हर बार रोक देती हैं....!! पर ए…',\n",
       " \"@narendramodi: I want your direct feedback on various issues…take part in the survey on the ‘Narendra Modi Mobile App.' https://t.co/hds…\"]"
      ]
     },
     "execution_count": 12,
     "metadata": {},
     "output_type": "execute_result"
    }
   ],
   "source": [
    "full_text"
   ]
  },
  {
   "cell_type": "code",
   "execution_count": 13,
   "metadata": {},
   "outputs": [
    {
     "data": {
      "text/plain": [
       "<map at 0x7f224d77b358>"
      ]
     },
     "execution_count": 13,
     "metadata": {},
     "output_type": "execute_result"
    }
   ],
   "source": [
    "followers"
   ]
  },
  {
   "cell_type": "code",
   "execution_count": 19,
   "metadata": {},
   "outputs": [],
   "source": [
    "sentiment = [x.capitalize() for x in sentiment]"
   ]
  },
  {
   "cell_type": "code",
   "execution_count": 20,
   "metadata": {},
   "outputs": [
    {
     "data": {
      "text/plain": [
       "['Neutral',\n",
       " 'Neutral',\n",
       " 'Positive',\n",
       " 'Neutral',\n",
       " 'Positive',\n",
       " 'Neutral',\n",
       " 'Neutral',\n",
       " 'Positive',\n",
       " 'Neutral',\n",
       " 'Positive']"
      ]
     },
     "execution_count": 20,
     "metadata": {},
     "output_type": "execute_result"
    }
   ],
   "source": [
    "sentiment"
   ]
  },
  {
   "cell_type": "code",
   "execution_count": null,
   "metadata": {},
   "outputs": [],
   "source": []
  }
 ],
 "metadata": {
  "kernelspec": {
   "display_name": "Python 3",
   "language": "python",
   "name": "python3"
  },
  "language_info": {
   "codemirror_mode": {
    "name": "ipython",
    "version": 3
   },
   "file_extension": ".py",
   "mimetype": "text/x-python",
   "name": "python",
   "nbconvert_exporter": "python",
   "pygments_lexer": "ipython3",
   "version": "3.6.8"
  }
 },
 "nbformat": 4,
 "nbformat_minor": 2
}
